{
  "nbformat": 4,
  "nbformat_minor": 0,
  "metadata": {
    "colab": {
      "provenance": []
    },
    "kernelspec": {
      "name": "python3",
      "display_name": "Python 3"
    },
    "language_info": {
      "name": "python"
    }
  },
  "cells": [
    {
      "cell_type": "markdown",
      "source": [
        "# Sports and Outdoors Review dataset\n",
        "\n",
        "Link to the dataset: http://snap.stanford.edu/data/amazon/productGraph/categoryFiles/reviews_Sports_and_Outdoors_5.json.gz"
      ],
      "metadata": {
        "id": "uiSD8mIPbH4R"
      }
    },
    {
      "cell_type": "code",
      "source": [
        "import pandas as pd\n",
        "import gensim"
      ],
      "metadata": {
        "id": "HQveDLROakUb"
      },
      "execution_count": 1,
      "outputs": []
    },
    {
      "cell_type": "code",
      "source": [
        "!gunzip /content/drive/MyDrive/reviews_Sports_and_Outdoors_5.json.gz"
      ],
      "metadata": {
        "id": "qoI96OUsa-KF"
      },
      "execution_count": 2,
      "outputs": []
    },
    {
      "cell_type": "code",
      "source": [
        "df = pd.read_json('/content/drive/MyDrive/reviews_Sports_and_Outdoors_5.json', lines=True)\n",
        "df"
      ],
      "metadata": {
        "colab": {
          "base_uri": "https://localhost:8080/",
          "height": 1000
        },
        "id": "YbK1SeA4bEUX",
        "outputId": "c684c591-fbb1-497b-a56f-56f1f16bed0e"
      },
      "execution_count": 4,
      "outputs": [
        {
          "output_type": "execute_result",
          "data": {
            "text/plain": [
              "            reviewerID        asin  \\\n",
              "0         AIXZKN4ACSKI  1881509818   \n",
              "1       A1L5P841VIO02V  1881509818   \n",
              "2        AB2W04NI4OEAD  1881509818   \n",
              "3       A148SVSWKTJKU6  1881509818   \n",
              "4        AAAWJ6LW9WMOO  1881509818   \n",
              "...                ...         ...   \n",
              "296332  A2XX2A4OJCDNLZ  B00LFPS0CY   \n",
              "296333  A3LGT6UZL99IW1  B00LFPS0CY   \n",
              "296334   ASKZO80Z1RKTR  B00LFPS0CY   \n",
              "296335   APRNS6DB68LLV  B00LFPS0CY   \n",
              "296336  A3UJRNI8UR4871  B00LFPS0CY   \n",
              "\n",
              "                                            reviewerName helpful  \\\n",
              "0                                           David Briner  [0, 0]   \n",
              "1                                        Jason A. Kramer  [1, 1]   \n",
              "2                                             J. Fernald  [2, 2]   \n",
              "3                         Jusitn A. Watts \"Maverick9614\"  [0, 0]   \n",
              "4                                           Material Man  [0, 0]   \n",
              "...                                                  ...     ...   \n",
              "296332                               RatherLiveInKeyWest  [2, 3]   \n",
              "296333  Richard C. Drew \"Anaal Nathra/Uthe vas Bethod...  [0, 0]   \n",
              "296334                                         Robin Lee  [0, 0]   \n",
              "296335                  Rob Slaven \"slavenrm@gmail. com\"  [1, 1]   \n",
              "296336                               Wulfstan \"wulfstan\"  [2, 2]   \n",
              "\n",
              "                                               reviewText  overall  \\\n",
              "0       This came in on time and I am veru happy with ...        5   \n",
              "1       I had a factory Glock tool that I was using fo...        5   \n",
              "2       If you don't have a 3/32 punch or would like t...        4   \n",
              "3       This works no better than any 3/32 punch you w...        4   \n",
              "4       I purchased this thinking maybe I need a speci...        4   \n",
              "...                                                   ...      ...   \n",
              "296332  This is a water bottle done right. It is a ver...        5   \n",
              "296333  If you're looking for an insulated water bottl...        5   \n",
              "296334  This Hydracentials Sporty 25 OZ, double insula...        5   \n",
              "296335  As usual I received this item free in exchange...        5   \n",
              "296336  Hydracentials insulated 25 oz water bottle.Thi...        5   \n",
              "\n",
              "                                                  summary  unixReviewTime  \\\n",
              "0                                          Woks very good      1390694400   \n",
              "1                       Works as well as the factory tool      1328140800   \n",
              "2                               It's a punch, that's all.      1330387200   \n",
              "3                         It's a punch with a Glock logo.      1328400000   \n",
              "4                 Ok,tool does what a regular punch does.      1366675200   \n",
              "...                                                   ...             ...   \n",
              "296332  Hydracentials Sporty 25 Oz Stainless Steel Wat...      1405036800   \n",
              "296333          Large, incredibly well made water bottle!      1405641600   \n",
              "296334             \"Great Water Bottle For Hot Day\"......      1405900800   \n",
              "296335  A pretty impressive water bottle.  Best I've s...      1405900800   \n",
              "296336                                     \"Cool\" Bottle!      1405382400   \n",
              "\n",
              "         reviewTime  \n",
              "0       01 26, 2014  \n",
              "1        02 2, 2012  \n",
              "2       02 28, 2012  \n",
              "3        02 5, 2012  \n",
              "4       04 23, 2013  \n",
              "...             ...  \n",
              "296332  07 11, 2014  \n",
              "296333  07 18, 2014  \n",
              "296334  07 21, 2014  \n",
              "296335  07 21, 2014  \n",
              "296336  07 15, 2014  \n",
              "\n",
              "[296337 rows x 9 columns]"
            ],
            "text/html": [
              "\n",
              "  <div id=\"df-cdced8ec-6691-4284-9181-04818ae9ddde\">\n",
              "    <div class=\"colab-df-container\">\n",
              "      <div>\n",
              "<style scoped>\n",
              "    .dataframe tbody tr th:only-of-type {\n",
              "        vertical-align: middle;\n",
              "    }\n",
              "\n",
              "    .dataframe tbody tr th {\n",
              "        vertical-align: top;\n",
              "    }\n",
              "\n",
              "    .dataframe thead th {\n",
              "        text-align: right;\n",
              "    }\n",
              "</style>\n",
              "<table border=\"1\" class=\"dataframe\">\n",
              "  <thead>\n",
              "    <tr style=\"text-align: right;\">\n",
              "      <th></th>\n",
              "      <th>reviewerID</th>\n",
              "      <th>asin</th>\n",
              "      <th>reviewerName</th>\n",
              "      <th>helpful</th>\n",
              "      <th>reviewText</th>\n",
              "      <th>overall</th>\n",
              "      <th>summary</th>\n",
              "      <th>unixReviewTime</th>\n",
              "      <th>reviewTime</th>\n",
              "    </tr>\n",
              "  </thead>\n",
              "  <tbody>\n",
              "    <tr>\n",
              "      <th>0</th>\n",
              "      <td>AIXZKN4ACSKI</td>\n",
              "      <td>1881509818</td>\n",
              "      <td>David Briner</td>\n",
              "      <td>[0, 0]</td>\n",
              "      <td>This came in on time and I am veru happy with ...</td>\n",
              "      <td>5</td>\n",
              "      <td>Woks very good</td>\n",
              "      <td>1390694400</td>\n",
              "      <td>01 26, 2014</td>\n",
              "    </tr>\n",
              "    <tr>\n",
              "      <th>1</th>\n",
              "      <td>A1L5P841VIO02V</td>\n",
              "      <td>1881509818</td>\n",
              "      <td>Jason A. Kramer</td>\n",
              "      <td>[1, 1]</td>\n",
              "      <td>I had a factory Glock tool that I was using fo...</td>\n",
              "      <td>5</td>\n",
              "      <td>Works as well as the factory tool</td>\n",
              "      <td>1328140800</td>\n",
              "      <td>02 2, 2012</td>\n",
              "    </tr>\n",
              "    <tr>\n",
              "      <th>2</th>\n",
              "      <td>AB2W04NI4OEAD</td>\n",
              "      <td>1881509818</td>\n",
              "      <td>J. Fernald</td>\n",
              "      <td>[2, 2]</td>\n",
              "      <td>If you don't have a 3/32 punch or would like t...</td>\n",
              "      <td>4</td>\n",
              "      <td>It's a punch, that's all.</td>\n",
              "      <td>1330387200</td>\n",
              "      <td>02 28, 2012</td>\n",
              "    </tr>\n",
              "    <tr>\n",
              "      <th>3</th>\n",
              "      <td>A148SVSWKTJKU6</td>\n",
              "      <td>1881509818</td>\n",
              "      <td>Jusitn A. Watts \"Maverick9614\"</td>\n",
              "      <td>[0, 0]</td>\n",
              "      <td>This works no better than any 3/32 punch you w...</td>\n",
              "      <td>4</td>\n",
              "      <td>It's a punch with a Glock logo.</td>\n",
              "      <td>1328400000</td>\n",
              "      <td>02 5, 2012</td>\n",
              "    </tr>\n",
              "    <tr>\n",
              "      <th>4</th>\n",
              "      <td>AAAWJ6LW9WMOO</td>\n",
              "      <td>1881509818</td>\n",
              "      <td>Material Man</td>\n",
              "      <td>[0, 0]</td>\n",
              "      <td>I purchased this thinking maybe I need a speci...</td>\n",
              "      <td>4</td>\n",
              "      <td>Ok,tool does what a regular punch does.</td>\n",
              "      <td>1366675200</td>\n",
              "      <td>04 23, 2013</td>\n",
              "    </tr>\n",
              "    <tr>\n",
              "      <th>...</th>\n",
              "      <td>...</td>\n",
              "      <td>...</td>\n",
              "      <td>...</td>\n",
              "      <td>...</td>\n",
              "      <td>...</td>\n",
              "      <td>...</td>\n",
              "      <td>...</td>\n",
              "      <td>...</td>\n",
              "      <td>...</td>\n",
              "    </tr>\n",
              "    <tr>\n",
              "      <th>296332</th>\n",
              "      <td>A2XX2A4OJCDNLZ</td>\n",
              "      <td>B00LFPS0CY</td>\n",
              "      <td>RatherLiveInKeyWest</td>\n",
              "      <td>[2, 3]</td>\n",
              "      <td>This is a water bottle done right. It is a ver...</td>\n",
              "      <td>5</td>\n",
              "      <td>Hydracentials Sporty 25 Oz Stainless Steel Wat...</td>\n",
              "      <td>1405036800</td>\n",
              "      <td>07 11, 2014</td>\n",
              "    </tr>\n",
              "    <tr>\n",
              "      <th>296333</th>\n",
              "      <td>A3LGT6UZL99IW1</td>\n",
              "      <td>B00LFPS0CY</td>\n",
              "      <td>Richard C. Drew \"Anaal Nathra/Uthe vas Bethod...</td>\n",
              "      <td>[0, 0]</td>\n",
              "      <td>If you're looking for an insulated water bottl...</td>\n",
              "      <td>5</td>\n",
              "      <td>Large, incredibly well made water bottle!</td>\n",
              "      <td>1405641600</td>\n",
              "      <td>07 18, 2014</td>\n",
              "    </tr>\n",
              "    <tr>\n",
              "      <th>296334</th>\n",
              "      <td>ASKZO80Z1RKTR</td>\n",
              "      <td>B00LFPS0CY</td>\n",
              "      <td>Robin Lee</td>\n",
              "      <td>[0, 0]</td>\n",
              "      <td>This Hydracentials Sporty 25 OZ, double insula...</td>\n",
              "      <td>5</td>\n",
              "      <td>\"Great Water Bottle For Hot Day\"......</td>\n",
              "      <td>1405900800</td>\n",
              "      <td>07 21, 2014</td>\n",
              "    </tr>\n",
              "    <tr>\n",
              "      <th>296335</th>\n",
              "      <td>APRNS6DB68LLV</td>\n",
              "      <td>B00LFPS0CY</td>\n",
              "      <td>Rob Slaven \"slavenrm@gmail. com\"</td>\n",
              "      <td>[1, 1]</td>\n",
              "      <td>As usual I received this item free in exchange...</td>\n",
              "      <td>5</td>\n",
              "      <td>A pretty impressive water bottle.  Best I've s...</td>\n",
              "      <td>1405900800</td>\n",
              "      <td>07 21, 2014</td>\n",
              "    </tr>\n",
              "    <tr>\n",
              "      <th>296336</th>\n",
              "      <td>A3UJRNI8UR4871</td>\n",
              "      <td>B00LFPS0CY</td>\n",
              "      <td>Wulfstan \"wulfstan\"</td>\n",
              "      <td>[2, 2]</td>\n",
              "      <td>Hydracentials insulated 25 oz water bottle.Thi...</td>\n",
              "      <td>5</td>\n",
              "      <td>\"Cool\" Bottle!</td>\n",
              "      <td>1405382400</td>\n",
              "      <td>07 15, 2014</td>\n",
              "    </tr>\n",
              "  </tbody>\n",
              "</table>\n",
              "<p>296337 rows × 9 columns</p>\n",
              "</div>\n",
              "      <button class=\"colab-df-convert\" onclick=\"convertToInteractive('df-cdced8ec-6691-4284-9181-04818ae9ddde')\"\n",
              "              title=\"Convert this dataframe to an interactive table.\"\n",
              "              style=\"display:none;\">\n",
              "        \n",
              "  <svg xmlns=\"http://www.w3.org/2000/svg\" height=\"24px\"viewBox=\"0 0 24 24\"\n",
              "       width=\"24px\">\n",
              "    <path d=\"M0 0h24v24H0V0z\" fill=\"none\"/>\n",
              "    <path d=\"M18.56 5.44l.94 2.06.94-2.06 2.06-.94-2.06-.94-.94-2.06-.94 2.06-2.06.94zm-11 1L8.5 8.5l.94-2.06 2.06-.94-2.06-.94L8.5 2.5l-.94 2.06-2.06.94zm10 10l.94 2.06.94-2.06 2.06-.94-2.06-.94-.94-2.06-.94 2.06-2.06.94z\"/><path d=\"M17.41 7.96l-1.37-1.37c-.4-.4-.92-.59-1.43-.59-.52 0-1.04.2-1.43.59L10.3 9.45l-7.72 7.72c-.78.78-.78 2.05 0 2.83L4 21.41c.39.39.9.59 1.41.59.51 0 1.02-.2 1.41-.59l7.78-7.78 2.81-2.81c.8-.78.8-2.07 0-2.86zM5.41 20L4 18.59l7.72-7.72 1.47 1.35L5.41 20z\"/>\n",
              "  </svg>\n",
              "      </button>\n",
              "      \n",
              "  <style>\n",
              "    .colab-df-container {\n",
              "      display:flex;\n",
              "      flex-wrap:wrap;\n",
              "      gap: 12px;\n",
              "    }\n",
              "\n",
              "    .colab-df-convert {\n",
              "      background-color: #E8F0FE;\n",
              "      border: none;\n",
              "      border-radius: 50%;\n",
              "      cursor: pointer;\n",
              "      display: none;\n",
              "      fill: #1967D2;\n",
              "      height: 32px;\n",
              "      padding: 0 0 0 0;\n",
              "      width: 32px;\n",
              "    }\n",
              "\n",
              "    .colab-df-convert:hover {\n",
              "      background-color: #E2EBFA;\n",
              "      box-shadow: 0px 1px 2px rgba(60, 64, 67, 0.3), 0px 1px 3px 1px rgba(60, 64, 67, 0.15);\n",
              "      fill: #174EA6;\n",
              "    }\n",
              "\n",
              "    [theme=dark] .colab-df-convert {\n",
              "      background-color: #3B4455;\n",
              "      fill: #D2E3FC;\n",
              "    }\n",
              "\n",
              "    [theme=dark] .colab-df-convert:hover {\n",
              "      background-color: #434B5C;\n",
              "      box-shadow: 0px 1px 3px 1px rgba(0, 0, 0, 0.15);\n",
              "      filter: drop-shadow(0px 1px 2px rgba(0, 0, 0, 0.3));\n",
              "      fill: #FFFFFF;\n",
              "    }\n",
              "  </style>\n",
              "\n",
              "      <script>\n",
              "        const buttonEl =\n",
              "          document.querySelector('#df-cdced8ec-6691-4284-9181-04818ae9ddde button.colab-df-convert');\n",
              "        buttonEl.style.display =\n",
              "          google.colab.kernel.accessAllowed ? 'block' : 'none';\n",
              "\n",
              "        async function convertToInteractive(key) {\n",
              "          const element = document.querySelector('#df-cdced8ec-6691-4284-9181-04818ae9ddde');\n",
              "          const dataTable =\n",
              "            await google.colab.kernel.invokeFunction('convertToInteractive',\n",
              "                                                     [key], {});\n",
              "          if (!dataTable) return;\n",
              "\n",
              "          const docLinkHtml = 'Like what you see? Visit the ' +\n",
              "            '<a target=\"_blank\" href=https://colab.research.google.com/notebooks/data_table.ipynb>data table notebook</a>'\n",
              "            + ' to learn more about interactive tables.';\n",
              "          element.innerHTML = '';\n",
              "          dataTable['output_type'] = 'display_data';\n",
              "          await google.colab.output.renderOutput(dataTable, element);\n",
              "          const docLink = document.createElement('div');\n",
              "          docLink.innerHTML = docLinkHtml;\n",
              "          element.appendChild(docLink);\n",
              "        }\n",
              "      </script>\n",
              "    </div>\n",
              "  </div>\n",
              "  "
            ]
          },
          "metadata": {},
          "execution_count": 4
        }
      ]
    },
    {
      "cell_type": "code",
      "source": [
        "df.reviewText[0]"
      ],
      "metadata": {
        "colab": {
          "base_uri": "https://localhost:8080/",
          "height": 54
        },
        "id": "K405RwPrbjss",
        "outputId": "819edb4d-a4aa-4dc2-a172-9e15415130f8"
      },
      "execution_count": 5,
      "outputs": [
        {
          "output_type": "execute_result",
          "data": {
            "text/plain": [
              "'This came in on time and I am veru happy with it, I haved used it already and it makes taking out the pins in my glock 32 very easy'"
            ],
            "application/vnd.google.colaboratory.intrinsic+json": {
              "type": "string"
            }
          },
          "metadata": {},
          "execution_count": 5
        }
      ]
    },
    {
      "cell_type": "code",
      "source": [
        "review_text = df.reviewText.apply(gensim.utils.simple_preprocess)\n",
        "review_text"
      ],
      "metadata": {
        "colab": {
          "base_uri": "https://localhost:8080/"
        },
        "id": "OYShvONeb1RS",
        "outputId": "37866108-e9ec-4b68-c5e1-ca60def5e61f"
      },
      "execution_count": 6,
      "outputs": [
        {
          "output_type": "execute_result",
          "data": {
            "text/plain": [
              "0         [this, came, in, on, time, and, am, veru, happ...\n",
              "1         [had, factory, glock, tool, that, was, using, ...\n",
              "2         [if, you, don, have, punch, or, would, like, t...\n",
              "3         [this, works, no, better, than, any, punch, yo...\n",
              "4         [purchased, this, thinking, maybe, need, speci...\n",
              "                                ...                        \n",
              "296332    [this, is, water, bottle, done, right, it, is,...\n",
              "296333    [if, you, re, looking, for, an, insulated, wat...\n",
              "296334    [this, hydracentials, sporty, oz, double, insu...\n",
              "296335    [as, usual, received, this, item, free, in, ex...\n",
              "296336    [hydracentials, insulated, oz, water, bottle, ...\n",
              "Name: reviewText, Length: 296337, dtype: object"
            ]
          },
          "metadata": {},
          "execution_count": 6
        }
      ]
    },
    {
      "cell_type": "code",
      "source": [
        "model = gensim.models.Word2Vec(\n",
        "    window = 10,\n",
        "    workers = 4,\n",
        "    min_count = 2\n",
        ")"
      ],
      "metadata": {
        "id": "YhmchQGwcDEW"
      },
      "execution_count": 8,
      "outputs": []
    },
    {
      "cell_type": "code",
      "source": [
        "model.build_vocab(review_text, progress_per=500)"
      ],
      "metadata": {
        "id": "BWgKUvjQez-s"
      },
      "execution_count": 9,
      "outputs": []
    },
    {
      "cell_type": "code",
      "source": [
        "model.corpus_count"
      ],
      "metadata": {
        "colab": {
          "base_uri": "https://localhost:8080/"
        },
        "id": "1CcYtn6mfEk8",
        "outputId": "dabde53e-bd9a-4c19-f07e-bc9a679b8989"
      },
      "execution_count": 10,
      "outputs": [
        {
          "output_type": "execute_result",
          "data": {
            "text/plain": [
              "296337"
            ]
          },
          "metadata": {},
          "execution_count": 10
        }
      ]
    },
    {
      "cell_type": "code",
      "source": [
        "model.epochs"
      ],
      "metadata": {
        "colab": {
          "base_uri": "https://localhost:8080/"
        },
        "id": "AfLkgbsWfKBN",
        "outputId": "6e7a37a2-2214-4340-925e-1fba743720c5"
      },
      "execution_count": 11,
      "outputs": [
        {
          "output_type": "execute_result",
          "data": {
            "text/plain": [
              "5"
            ]
          },
          "metadata": {},
          "execution_count": 11
        }
      ]
    },
    {
      "cell_type": "code",
      "source": [
        "model.train(review_text, total_examples = model.corpus_count, epochs = model.epochs)"
      ],
      "metadata": {
        "colab": {
          "base_uri": "https://localhost:8080/"
        },
        "id": "jSWA2c-xfL8t",
        "outputId": "f1498084-b9e2-4f26-b526-212c8003df91"
      },
      "execution_count": 12,
      "outputs": [
        {
          "output_type": "execute_result",
          "data": {
            "text/plain": [
              "(91340086, 121496535)"
            ]
          },
          "metadata": {},
          "execution_count": 12
        }
      ]
    },
    {
      "cell_type": "code",
      "source": [
        "model.save('/content/drive/MyDrive/Sports-and-Outdoors-Review.model')"
      ],
      "metadata": {
        "id": "U4Zx1LQefdpo"
      },
      "execution_count": 13,
      "outputs": []
    },
    {
      "cell_type": "code",
      "source": [
        "model.wv.most_similar(\"awful\")"
      ],
      "metadata": {
        "colab": {
          "base_uri": "https://localhost:8080/"
        },
        "id": "lZoPY5bAflAg",
        "outputId": "9dc9a6b5-26d5-4d2a-e811-a5a040f2db7f"
      },
      "execution_count": 16,
      "outputs": [
        {
          "output_type": "execute_result",
          "data": {
            "text/plain": [
              "[('horrible', 0.6861109733581543),\n",
              " ('terrible', 0.6858777403831482),\n",
              " ('ugly', 0.6023790240287781),\n",
              " ('overpowering', 0.5724925398826599),\n",
              " ('utter', 0.5584249496459961),\n",
              " ('authentic', 0.5506582856178284),\n",
              " ('lousy', 0.5502370595932007),\n",
              " ('nightmare', 0.5465791821479797),\n",
              " ('unpleasant', 0.5459908246994019),\n",
              " ('overwhelming', 0.5458137392997742)]"
            ]
          },
          "metadata": {},
          "execution_count": 16
        }
      ]
    },
    {
      "cell_type": "code",
      "source": [
        "model.wv.similarity(w1 ='good', w2 = 'great')"
      ],
      "metadata": {
        "colab": {
          "base_uri": "https://localhost:8080/"
        },
        "id": "sHCHWnWjgeoD",
        "outputId": "0ee0690c-fe68-4127-c354-c4c719fc024f"
      },
      "execution_count": 17,
      "outputs": [
        {
          "output_type": "execute_result",
          "data": {
            "text/plain": [
              "0.7803534"
            ]
          },
          "metadata": {},
          "execution_count": 17
        }
      ]
    },
    {
      "cell_type": "code",
      "source": [
        "model.wv.similarity(w1 = 'slow', w2 = 'steady')"
      ],
      "metadata": {
        "colab": {
          "base_uri": "https://localhost:8080/"
        },
        "id": "7oM0q9fQgzIA",
        "outputId": "883af8d3-6e46-4162-d70d-d9de7714c643"
      },
      "execution_count": 18,
      "outputs": [
        {
          "output_type": "execute_result",
          "data": {
            "text/plain": [
              "0.3925246"
            ]
          },
          "metadata": {},
          "execution_count": 18
        }
      ]
    },
    {
      "cell_type": "code",
      "source": [],
      "metadata": {
        "id": "T6IHpTMBg6DL"
      },
      "execution_count": null,
      "outputs": []
    }
  ]
}